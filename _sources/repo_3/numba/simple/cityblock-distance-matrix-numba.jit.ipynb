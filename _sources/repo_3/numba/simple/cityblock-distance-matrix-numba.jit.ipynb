{
 "cells": [
  {
   "cell_type": "markdown",
   "metadata": {},
   "source": [
    "# Using `numba.jit` to speedup the computation of the Cityblock distance matrix \n",
    "\n",
    "\n",
    "In this notebook we implement a function to compute the Cityblock distance matrix using Numba's *just-it-time* compilation decorator. We compare it's performance to that of corresponding non-decorated NumPy function.\n",
    "\n",
    "We will use two Numba functions here. The decorator ` @numba.jit` and `numba.prange`."
   ]
  },
  {
   "cell_type": "code",
   "execution_count": null,
   "metadata": {},
   "outputs": [],
   "source": [
    "import numpy as np\n",
    "import numba"
   ]
  },
  {
   "cell_type": "code",
   "execution_count": null,
   "metadata": {},
   "outputs": [],
   "source": [
    "def cityblock_python(x, y):\n",
    "    \"\"\"Naive python implementation.\"\"\"\n",
    "\n",
    "    num_samples, num_feat = x.shape\n",
    "    dist_matrix = np.empty((num_samples, num_samples))\n",
    "    for i in range(num_samples):\n",
    "        for j in range(num_samples):\n",
    "            r = 0.0\n",
    "            for k in range(num_feat):\n",
    "                r += np.abs(x[i][k] - y[j][k])\n",
    "            dist_matrix[i][j] = r\n",
    "\n",
    "    return dist_matrix\n",
    "\n",
    "\n",
    "@numba.jit(nopython=True)\n",
    "def cityblock_numba1(x, y):\n",
    "    \"\"\"Implementation with numba.\"\"\"\n",
    "\n",
    "    num_samples, num_feat = x.shape\n",
    "    dist_matrix = np.empty((num_samples, num_samples))\n",
    "    for i in range(num_samples):\n",
    "        for j in range(num_samples):\n",
    "            r = 0.0\n",
    "            for k in numba.prange(num_feat):\n",
    "                r += np.abs(x[i][k] - y[j][k])\n",
    "            dist_matrix[i][j] = r\n",
    "\n",
    "    return dist_matrix\n",
    "\n",
    "\n",
    "@numba.jit(nopython=True)\n",
    "def cityblock_numba2(x, y):\n",
    "    \"\"\"Implementation with numba and numpy.\"\"\"\n",
    "\n",
    "    num_samples, num_feat = x.shape\n",
    "    dist_matrix = np.empty((num_samples, num_samples))\n",
    "    for i in range(num_samples):\n",
    "        for j in numba.prange(num_samples):\n",
    "            dist_matrix[i][j] = np.linalg.norm(x[i] - y[j], 1)\n",
    "\n",
    "    return dist_matrix"
   ]
  },
  {
   "cell_type": "markdown",
   "metadata": {},
   "source": [
    "## Note\n",
    "Observe that the inner loop, which is a reduction, is done with `numba.prange`. `numba.prange` automatically takes care of data privatization and reductions."
   ]
  },
  {
   "cell_type": "code",
   "execution_count": null,
   "metadata": {},
   "outputs": [],
   "source": [
    "# Let's check that they all give the same result\n",
    "a = 10. * np.random.random([100, 10])\n",
    "\n",
    "print(np.abs(cityblock_python(a, a) - cityblock_numba1(a, a)).max())\n",
    "print(np.abs(cityblock_python(a, a) - cityblock_numba2(a, a)).max())"
   ]
  },
  {
   "cell_type": "code",
   "execution_count": null,
   "metadata": {},
   "outputs": [],
   "source": [
    "nsamples = 200\n",
    "nfeat = 25\n",
    "\n",
    "x = 10. * np.random.random([nsamples, nfeat])\n",
    "\n",
    "%timeit cityblock_python(x,x)\n",
    "%timeit cityblock_numba1(x, x)\n",
    "%timeit cityblock_numba2(x, x)"
   ]
  },
  {
   "cell_type": "markdown",
   "metadata": {},
   "source": [
    "## Exercise 1\n",
    "How do you explain the difference in execution times?"
   ]
  },
  {
   "cell_type": "markdown",
   "metadata": {},
   "source": [
    "## Conclusions\n",
    "\n",
    "In cases where there's no possibility to do an implementation with NumPy vectorized operations, it's worth to give a try to Numba. It offers a significant improvement in performance compared to pure python, specially in situations where loops are unavoidable.\n",
    "\n",
    "As we have seen, the speedup doesn't come completelly for free: the way the python function is implmented is crucial to obtain a good performance from Numba. Consider different implementations with and without NumPy operations and measure their execution time."
   ]
  }
 ],
 "metadata": {
  "kernelspec": {
   "display_name": "pyhpc2020",
   "language": "python",
   "name": "pyhpc2020"
  },
  "language_info": {
   "codemirror_mode": {
    "name": "ipython",
    "version": 3
   },
   "file_extension": ".py",
   "mimetype": "text/x-python",
   "name": "python",
   "nbconvert_exporter": "python",
   "pygments_lexer": "ipython3",
   "version": "3.6.2"
  }
 },
 "nbformat": 4,
 "nbformat_minor": 4
}

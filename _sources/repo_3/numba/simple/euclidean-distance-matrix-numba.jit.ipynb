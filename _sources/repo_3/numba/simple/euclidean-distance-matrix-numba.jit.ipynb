{
 "cells": [
  {
   "cell_type": "markdown",
   "metadata": {},
   "source": [
    "# Using `numba.jit` to speedup the computation of the Euclidean distance matrix \n",
    "\n",
    "In this notebook we implement a function to compute the Euclidean distance matrix using Numba's *just-in-time* compilation decorator. We compare it with the NumPy function we wrote before.\n",
    "\n",
    "We will use two Numba functions here: The decorator ` @numba.jit` and `numba.prange`."
   ]
  },
  {
   "cell_type": "code",
   "execution_count": null,
   "metadata": {},
   "outputs": [],
   "source": [
    "import numpy as np\n",
    "import numba"
   ]
  },
  {
   "cell_type": "code",
   "execution_count": null,
   "metadata": {},
   "outputs": [],
   "source": [
    "@numba.jit(nopython=True)\n",
    "def euclidean_numba1(x, y):\n",
    "    \"\"\"Implementation with numba.\"\"\"\n",
    "\n",
    "    num_samples, num_feat = x.shape\n",
    "    dist_matrix = np.zeros((num_samples, num_samples))\n",
    "    for i in range(num_samples):\n",
    "        for j in range(num_samples):\n",
    "            r = 0.0\n",
    "            for k in numba.prange(num_feat):\n",
    "                r += (x[i][k] - y[j][k])**2\n",
    "            dist_matrix[i][j] = r\n",
    "\n",
    "    return dist_matrix\n",
    "\n",
    "\n",
    "@numba.jit(nopython=True)\n",
    "def euclidean_numba2(x, y):\n",
    "    \"\"\"Implementation with numba and numpy.\"\"\"\n",
    "\n",
    "    num_samples, num_feat = x.shape\n",
    "    dist_matrix = np.zeros((num_samples, num_samples))\n",
    "    for i in range(num_samples):\n",
    "        for j in numba.prange(num_samples):\n",
    "            dist_matrix[i][j] = ((x[i] - y[j])**2).sum()\n",
    "\n",
    "    return dist_matrix"
   ]
  },
  {
   "cell_type": "markdown",
   "metadata": {},
   "source": [
    "Let's include here our numpy implementation for comparison."
   ]
  },
  {
   "cell_type": "code",
   "execution_count": null,
   "metadata": {},
   "outputs": [],
   "source": [
    "def euclidean_numpy(x, y):\n",
    "    \"\"\"Euclidean square distance matrix.\n",
    "    \n",
    "    Inputs:\n",
    "    x: (N, m) numpy array\n",
    "    y: (N, m) numpy array\n",
    "    \n",
    "    Ouput:\n",
    "    (N, N) Euclidean square distance matrix:\n",
    "    r_ij = (x_ij - y_ij)^2\n",
    "    \"\"\"\n",
    "\n",
    "    x2 = np.einsum('ij,ij->i', x, x)[:, np.newaxis]\n",
    "    y2 = np.einsum('ij,ij->i', y, y)[:, np.newaxis].T\n",
    "\n",
    "    xy = np.dot(x, y.T)\n",
    "\n",
    "    return np.abs(x2 + y2 - 2. * xy)"
   ]
  },
  {
   "cell_type": "markdown",
   "metadata": {},
   "source": [
    "### Note\n",
    "Observe that the inner loop, which is a reduction, is done with `numba.prange`. `numba.prange` automatically takes care of data privatization and reductions."
   ]
  },
  {
   "cell_type": "markdown",
   "metadata": {},
   "source": [
    "### Exercise 1\n",
    "Before runing the different functions, could you say which of the two numba implementations would be faster?"
   ]
  },
  {
   "cell_type": "code",
   "execution_count": null,
   "metadata": {},
   "outputs": [],
   "source": [
    "# Let's check that they all give the same result\n",
    "a = 10. * np.random.random([100, 10])\n",
    "\n",
    "print(np.abs(euclidean_numpy(a, a) - euclidean_numba1(a, a)).max())\n",
    "print(np.abs(euclidean_numpy(a, a) - euclidean_numba2(a, a)).max())"
   ]
  },
  {
   "cell_type": "markdown",
   "metadata": {},
   "source": [
    "Our Numba implementations can be faster than the NumPy one for a list of small vectors. However, with larger vectors, the NumPy implementation is faster:"
   ]
  },
  {
   "cell_type": "code",
   "execution_count": null,
   "metadata": {},
   "outputs": [],
   "source": [
    "nsamples = 100\n",
    "nfeat = 3\n",
    "\n",
    "x = 10. * np.random.random([nsamples, nfeat])\n",
    "\n",
    "%timeit euclidean_numpy(x, x)\n",
    "%timeit euclidean_numba1(x, x)\n",
    "%timeit euclidean_numba2(x, x)"
   ]
  },
  {
   "cell_type": "code",
   "execution_count": null,
   "metadata": {},
   "outputs": [],
   "source": [
    "nsamples = 100\n",
    "nfeat = 50\n",
    "\n",
    "x = 10. * np.random.random([nsamples, nfeat])\n",
    "\n",
    "%timeit euclidean_numpy(x, x)\n",
    "%timeit euclidean_numba1(x, x)\n",
    "%timeit euclidean_numba2(x, x)"
   ]
  },
  {
   "cell_type": "markdown",
   "metadata": {},
   "source": [
    "In a more realistic case, our NumPy implementation is much faster:"
   ]
  },
  {
   "cell_type": "code",
   "execution_count": null,
   "metadata": {},
   "outputs": [],
   "source": [
    "nsamples = 5000\n",
    "nfeat = 50\n",
    "\n",
    "x = 10. * np.random.random([nsamples, nfeat])\n",
    "\n",
    "%timeit euclidean_numpy(x, x)\n",
    "%timeit euclidean_numba1(x, x)"
   ]
  }
 ],
 "metadata": {
  "kernelspec": {
   "display_name": "pyhpc2020",
   "language": "python",
   "name": "pyhpc2020"
  },
  "language_info": {
   "codemirror_mode": {
    "name": "ipython",
    "version": 3
   },
   "file_extension": ".py",
   "mimetype": "text/x-python",
   "name": "python",
   "nbconvert_exporter": "python",
   "pygments_lexer": "ipython3",
   "version": "3.6.2"
  }
 },
 "nbformat": 4,
 "nbformat_minor": 4
}

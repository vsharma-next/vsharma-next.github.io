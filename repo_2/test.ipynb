{
 "cells": [
  {
   "cell_type": "markdown",
   "metadata": {},
   "source": [
    "# THIS FILE HAS AS TITLE NOW ?"
   ]
  },
  {
   "cell_type": "code",
   "execution_count": 2,
   "metadata": {},
   "outputs": [],
   "source": [
    "import numpy as np\n",
    "import pyvista as pv"
   ]
  },
  {
   "cell_type": "code",
   "execution_count": 7,
   "metadata": {},
   "outputs": [],
   "source": [
    "n = 9"
   ]
  },
  {
   "cell_type": "code",
   "execution_count": 8,
   "metadata": {},
   "outputs": [],
   "source": [
    "dem = np.zeros(shape=(n,n))"
   ]
  },
  {
   "cell_type": "code",
   "execution_count": 25,
   "metadata": {},
   "outputs": [],
   "source": [
    "np.fill_diagonal(dem[:,8:],n-8)"
   ]
  },
  {
   "cell_type": "code",
   "execution_count": 26,
   "metadata": {},
   "outputs": [
    {
     "data": {
      "text/plain": [
       "array([[9., 8., 7., 6., 5., 4., 3., 2., 1.],\n",
       "       [0., 9., 8., 7., 6., 5., 4., 3., 2.],\n",
       "       [0., 0., 9., 8., 7., 6., 5., 4., 3.],\n",
       "       [0., 0., 0., 9., 8., 7., 6., 5., 4.],\n",
       "       [0., 0., 0., 0., 9., 8., 7., 6., 5.],\n",
       "       [0., 0., 0., 0., 0., 9., 8., 7., 6.],\n",
       "       [0., 0., 0., 0., 0., 0., 9., 8., 7.],\n",
       "       [0., 0., 0., 0., 0., 0., 0., 9., 8.],\n",
       "       [0., 0., 0., 0., 0., 0., 0., 0., 9.]])"
      ]
     },
     "execution_count": 26,
     "metadata": {},
     "output_type": "execute_result"
    }
   ],
   "source": [
    "dem"
   ]
  },
  {
   "cell_type": "code",
   "execution_count": 28,
   "metadata": {},
   "outputs": [],
   "source": [
    "ttt = dem.T + dem"
   ]
  },
  {
   "cell_type": "code",
   "execution_count": 29,
   "metadata": {},
   "outputs": [
    {
     "data": {
      "text/plain": [
       "array([[18.,  8.,  7.,  6.,  5.,  4.,  3.,  2.,  1.],\n",
       "       [ 8., 18.,  8.,  7.,  6.,  5.,  4.,  3.,  2.],\n",
       "       [ 7.,  8., 18.,  8.,  7.,  6.,  5.,  4.,  3.],\n",
       "       [ 6.,  7.,  8., 18.,  8.,  7.,  6.,  5.,  4.],\n",
       "       [ 5.,  6.,  7.,  8., 18.,  8.,  7.,  6.,  5.],\n",
       "       [ 4.,  5.,  6.,  7.,  8., 18.,  8.,  7.,  6.],\n",
       "       [ 3.,  4.,  5.,  6.,  7.,  8., 18.,  8.,  7.],\n",
       "       [ 2.,  3.,  4.,  5.,  6.,  7.,  8., 18.,  8.],\n",
       "       [ 1.,  2.,  3.,  4.,  5.,  6.,  7.,  8., 18.]])"
      ]
     },
     "execution_count": 29,
     "metadata": {},
     "output_type": "execute_result"
    }
   ],
   "source": [
    "ttt"
   ]
  },
  {
   "cell_type": "code",
   "execution_count": 30,
   "metadata": {},
   "outputs": [
    {
     "data": {
      "text/plain": [
       "array([[18.,  8.,  7.,  6.,  5.,  4.,  3.,  2.,  1.],\n",
       "       [ 8., 18.,  8.,  7.,  6.,  5.,  4.,  3.,  2.],\n",
       "       [ 7.,  8., 18.,  8.,  7.,  6.,  5.,  4.,  3.],\n",
       "       [ 6.,  7.,  8., 18.,  8.,  7.,  6.,  5.,  4.],\n",
       "       [ 5.,  6.,  7.,  8., 18.,  8.,  7.,  6.,  5.],\n",
       "       [ 4.,  5.,  6.,  7.,  8., 18.,  8.,  7.,  6.],\n",
       "       [ 3.,  4.,  5.,  6.,  7.,  8., 18.,  8.,  7.],\n",
       "       [ 2.,  3.,  4.,  5.,  6.,  7.,  8., 18.,  8.],\n",
       "       [ 1.,  2.,  3.,  4.,  5.,  6.,  7.,  8., 18.]])"
      ]
     },
     "execution_count": 30,
     "metadata": {},
     "output_type": "execute_result"
    }
   ],
   "source": [
    "ttt[0:n,0:n]"
   ]
  },
  {
   "cell_type": "code",
   "execution_count": 34,
   "metadata": {},
   "outputs": [],
   "source": [
    "np.fill_diagonal(ttt,9)"
   ]
  },
  {
   "cell_type": "code",
   "execution_count": 35,
   "metadata": {},
   "outputs": [
    {
     "data": {
      "text/plain": [
       "array([[9., 8., 7., 6., 5., 4., 3., 2., 1.],\n",
       "       [8., 9., 8., 7., 6., 5., 4., 3., 2.],\n",
       "       [7., 8., 9., 8., 7., 6., 5., 4., 3.],\n",
       "       [6., 7., 8., 9., 8., 7., 6., 5., 4.],\n",
       "       [5., 6., 7., 8., 9., 8., 7., 6., 5.],\n",
       "       [4., 5., 6., 7., 8., 9., 8., 7., 6.],\n",
       "       [3., 4., 5., 6., 7., 8., 9., 8., 7.],\n",
       "       [2., 3., 4., 5., 6., 7., 8., 9., 8.],\n",
       "       [1., 2., 3., 4., 5., 6., 7., 8., 9.]])"
      ]
     },
     "execution_count": 35,
     "metadata": {},
     "output_type": "execute_result"
    }
   ],
   "source": [
    "ttt"
   ]
  },
  {
   "cell_type": "code",
   "execution_count": 42,
   "metadata": {},
   "outputs": [],
   "source": [
    "x = np.arange(9)"
   ]
  },
  {
   "cell_type": "code",
   "execution_count": 43,
   "metadata": {},
   "outputs": [],
   "source": [
    "y = np.arange(9)"
   ]
  },
  {
   "cell_type": "code",
   "execution_count": 44,
   "metadata": {},
   "outputs": [],
   "source": [
    "xx,yy = np.meshgrid(x,y)"
   ]
  },
  {
   "cell_type": "code",
   "execution_count": 70,
   "metadata": {},
   "outputs": [],
   "source": [
    "points = np.c_[xx.reshape(-1),yy.reshape(-1),ttt.reshape(-1)]"
   ]
  },
  {
   "cell_type": "code",
   "execution_count": 62,
   "metadata": {},
   "outputs": [],
   "source": [
    "ttt_flip = np.fliplr(ttt)"
   ]
  },
  {
   "cell_type": "code",
   "execution_count": 71,
   "metadata": {},
   "outputs": [],
   "source": [
    "cloud = pv.PolyData(points)"
   ]
  },
  {
   "cell_type": "code",
   "execution_count": 65,
   "metadata": {},
   "outputs": [
    {
     "data": {
      "application/vnd.jupyter.widget-view+json": {
       "model_id": "211765777ba34111b08023f30f208eb7",
       "version_major": 2,
       "version_minor": 0
      },
      "text/plain": [
       "ViewInteractiveWidget(height=768, layout=Layout(height='auto', width='100%'), width=1024)"
      ]
     },
     "metadata": {},
     "output_type": "display_data"
    }
   ],
   "source": [
    "cloud.plot(point_size=2)"
   ]
  },
  {
   "cell_type": "code",
   "execution_count": 72,
   "metadata": {},
   "outputs": [],
   "source": [
    "surf = cloud.delaunay_3d()"
   ]
  },
  {
   "cell_type": "code",
   "execution_count": 73,
   "metadata": {},
   "outputs": [
    {
     "data": {
      "application/vnd.jupyter.widget-view+json": {
       "model_id": "e55d62c46b71496f8fa7c36bb7a39af7",
       "version_major": 2,
       "version_minor": 0
      },
      "text/plain": [
       "ViewInteractiveWidget(height=768, layout=Layout(height='auto', width='100%'), width=1024)"
      ]
     },
     "metadata": {},
     "output_type": "display_data"
    }
   ],
   "source": [
    "surf.plot(show_edges=True)"
   ]
  },
  {
   "cell_type": "code",
   "execution_count": null,
   "metadata": {},
   "outputs": [],
   "source": []
  }
 ],
 "metadata": {
  "interpreter": {
   "hash": "f6b83991fdb9e0f00032574754a1449aeb50972967fa58797ed9259a08745943"
  },
  "kernelspec": {
   "display_name": "Python 3.9.9 ('prod_1')",
   "language": "python",
   "name": "python3"
  },
  "language_info": {
   "name": "python",
   "version": "3.8.12"
  },
  "orig_nbformat": 4
 },
 "nbformat": 4,
 "nbformat_minor": 2
}

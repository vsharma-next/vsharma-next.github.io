{
 "cells": [
  {
   "cell_type": "markdown",
   "metadata": {},
   "source": [
    "# Creating Generalized Ufuncs with Numba\n",
    "\n",
    "Numba offers the `guvectorize` to generate **generalized ufuncs** which work of input arrays with different dimensions."
   ]
  },
  {
   "cell_type": "code",
   "execution_count": null,
   "metadata": {},
   "outputs": [],
   "source": [
    "import numpy as np\n",
    "import numba"
   ]
  },
  {
   "cell_type": "markdown",
   "metadata": {},
   "source": [
    "## Adding a constant to a vector"
   ]
  },
  {
   "cell_type": "code",
   "execution_count": null,
   "metadata": {},
   "outputs": [],
   "source": [
    "@numba.guvectorize(['(f8[:], f8[:], f8[:])'], '(m),()->(m)')\n",
    "def vec_add_const(x, y, z):\n",
    "    for i in range(x.shape[0]):\n",
    "        z[i] = x[i] + y[0]"
   ]
  },
  {
   "cell_type": "code",
   "execution_count": null,
   "metadata": {},
   "outputs": [],
   "source": [
    "x = np.arange(10.0)\n",
    "z = vec_add_const(x, 2.0)\n",
    "print(x, z, sep='\\n')"
   ]
  },
  {
   "cell_type": "code",
   "execution_count": null,
   "metadata": {},
   "outputs": [],
   "source": [
    "x = np.arange(10.0).reshape(2, 5)\n",
    "z = vec_add_const(x, 2.0)\n",
    "print(x, z, sep='\\n')"
   ]
  },
  {
   "cell_type": "code",
   "execution_count": null,
   "metadata": {},
   "outputs": [],
   "source": [
    "x = np.arange(10.0).reshape(2, 5)\n",
    "y = np.array([1., 2.])\n",
    "z = vec_add_const(x, y)\n",
    "print(x, z, sep='\\n')"
   ]
  },
  {
   "cell_type": "markdown",
   "metadata": {},
   "source": [
    "## Matrix Vector Multiplication"
   ]
  },
  {
   "cell_type": "code",
   "execution_count": null,
   "metadata": {},
   "outputs": [],
   "source": [
    "@numba.guvectorize(['(f8[:, :], f8[:], f8[:])'], '(m,n),(n)->(m)')\n",
    "def mat_vec_mult(x, y, z):\n",
    "    for i in range(x.shape[0]):\n",
    "        d = 0.0\n",
    "        for j in range(x.shape[1]):\n",
    "            d += x[i, j] * y[j]\n",
    "        z[i] = d"
   ]
  },
  {
   "cell_type": "code",
   "execution_count": null,
   "metadata": {},
   "outputs": [],
   "source": [
    "A = np.arange(9.0).reshape(3, 3)\n",
    "x = np.array([1., 2., 3.])\n",
    "z = mat_vec_mult(A, x)\n",
    "print(A, z, sep='\\n\\n')"
   ]
  },
  {
   "cell_type": "code",
   "execution_count": null,
   "metadata": {},
   "outputs": [],
   "source": [
    "A = np.arange(27.0).reshape(3, 3, 3)\n",
    "x = np.array([1., 2., 3])\n",
    "z = mat_vec_mult(A, x)\n",
    "print(A, z, sep='\\n\\n')"
   ]
  },
  {
   "cell_type": "markdown",
   "metadata": {},
   "source": [
    "## Matrix-Matrix Multiplication"
   ]
  },
  {
   "cell_type": "code",
   "execution_count": null,
   "metadata": {},
   "outputs": [],
   "source": [
    "@numba.guvectorize(['(f8[:, :], f8[:, :], f8[:, :])'], '(m,n),(n,k)->(m, k)')\n",
    "def mat_mul(x, y, z):\n",
    "    for i in range(x.shape[0]):\n",
    "        for j in range(y.shape[1]):\n",
    "            d = 0.0\n",
    "            for k in range(x.shape[1]):\n",
    "                d += x[i, k] * y[k, j]\n",
    "            z[i, j] = d"
   ]
  },
  {
   "cell_type": "code",
   "execution_count": null,
   "metadata": {},
   "outputs": [],
   "source": [
    "A = np.arange(9.0).reshape(3, 3)\n",
    "B = np.arange(9.0, 24.0).reshape(3, 5)\n",
    "C = mat_mul(A, B)\n",
    "C_numpy = A @ B\n",
    "print(C, C_numpy, sep='\\n\\n')\n",
    "numba.guvectorize?"
   ]
  }
 ],
 "metadata": {
  "kernelspec": {
   "display_name": "Python 3",
   "language": "python",
   "name": "python3"
  },
  "language_info": {
   "codemirror_mode": {
    "name": "ipython",
    "version": 3
   },
   "file_extension": ".py",
   "mimetype": "text/x-python",
   "name": "python",
   "nbconvert_exporter": "python",
   "pygments_lexer": "ipython3",
   "version": "3.6.5"
  }
 },
 "nbformat": 4,
 "nbformat_minor": 2
}

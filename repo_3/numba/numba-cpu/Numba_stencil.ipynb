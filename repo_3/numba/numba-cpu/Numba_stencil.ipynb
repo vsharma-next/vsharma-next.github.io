{
 "cells": [
  {
   "cell_type": "markdown",
   "metadata": {},
   "source": [
    "# Stencil Computations with Numba\n",
    "\n",
    "* Stencils are typical computational kernels in scientific computing, e.g in finite difference methods for solving PDES.\n",
    "\n",
    "* Numba offers the `stencil` utility that allows you to define stencil operations without explicitely specifying required loops, while it automatically handles boundary conditions."
   ]
  },
  {
   "cell_type": "code",
   "execution_count": null,
   "metadata": {},
   "outputs": [],
   "source": [
    "import numpy as np\n",
    "import numba\n",
    "import matplotlib.pyplot as plt"
   ]
  },
  {
   "cell_type": "markdown",
   "metadata": {},
   "source": [
    "## 1D Heat equation\n",
    "\\begin{align*}\n",
    "\\frac{\\partial u}{\\partial t} &= \\alpha\\frac{\\partial^2u}{\\partial x^2},\\quad\\quad & x \\in (0,L), t \\in (0, T] \\\\\n",
    "u(x,0)&=I_0(x),\\quad\\quad & x \\in [0, L] \\\\\n",
    "u(0,t) &= 0,\\quad\\quad & t>0 \\\\\n",
    "u(L,t) &= 0,\\quad\\quad & t>0\n",
    "\\end{align*}"
   ]
  },
  {
   "cell_type": "markdown",
   "metadata": {},
   "source": [
    "## Discretization of the Heat equation\n",
    "\n",
    "\\begin{align*}\n",
    "\\text{space discretization:}\\quad\\quad\\quad\\quad\\quad x_i &=i \\Delta x, \\quad i=0,\\ldots,Nx\\\\\n",
    "\\text{time discretization:}\\quad\\quad\\quad\\quad\\quad t_n &= n\\Delta t, \\quad n = 0,\\ldots, N_t \\\\\n",
    "\\frac{u_i^{n+1}-u_i^n}{\\Delta t} &= \\alpha \\frac{u_{i+1}^n-2u_i^n+u_{i-1}^n}{\\Delta x^2}\\\\\n",
    "u_i^{n+1} &= u_i^n + F \\left( u_{i+1}^n -2 u_i^n + u_{i-1}^n\\right) \\\\\n",
    "\\text{mesh Fourier number:}\\quad\\quad\\quad\\quad\\quad F &= \\alpha \\frac{\\Delta t}{\\Delta x ^2}\n",
    "\\end{align*}"
   ]
  },
  {
   "cell_type": "markdown",
   "metadata": {},
   "source": [
    "## 1D Grid\n",
    "![Heat1D](img/Heat1D.jpg)"
   ]
  },
  {
   "cell_type": "markdown",
   "metadata": {},
   "source": [
    "## 3-Point Stencil\n",
    "![Stencil1D](img/Stencil1D.jpg)"
   ]
  },
  {
   "cell_type": "code",
   "execution_count": null,
   "metadata": {},
   "outputs": [],
   "source": [
    "nx = 500\n",
    "nt = 10000\n",
    "T = 100.0\n",
    "L = 100.0\n",
    "dx = L / nx\n",
    "dt = T / nt\n",
    "alpha = 1.0\n",
    "F = alpha * dt / dx ** 2 \n",
    "print(F)\n",
    "x = np.linspace(0, L, nx + 1)\n",
    "temp = np.zeros(nx + 1)\n",
    "temp[nx//2:nx//2+nx//10] = np.sin(2.0 * np.pi * (x[nx//2:nx//2+nx//10] - x[nx//2])/(L/5))"
   ]
  },
  {
   "cell_type": "code",
   "execution_count": null,
   "metadata": {},
   "outputs": [],
   "source": [
    "@numba.stencil\n",
    "def central_diff_stencil(x, F):\n",
    "    return x[0]  + F * (x[1] - 2.0 * x[0] + x[-1])"
   ]
  },
  {
   "cell_type": "code",
   "execution_count": null,
   "metadata": {},
   "outputs": [],
   "source": [
    "@numba.njit\n",
    "def simulation(x, F, nt):\n",
    "    for i in range(nt):\n",
    "        x = central_diff_stencil(x, F)\n",
    "    \n",
    "    return x"
   ]
  },
  {
   "cell_type": "code",
   "execution_count": null,
   "metadata": {},
   "outputs": [],
   "source": [
    "temp_final = simulation(temp, F, nt)\n",
    "fig = plt.figure(figsize=(20,10))\n",
    "ax = fig.add_subplot(111)\n",
    "ax.plot(x, temp, label='t=0.0')\n",
    "ax.plot(x, temp_final, label=f't={T}')\n",
    "ax.set_xlabel('x')\n",
    "ax.set_ylabel('u')\n",
    "ax.legend();"
   ]
  },
  {
   "cell_type": "markdown",
   "metadata": {},
   "source": [
    "## 2D Heat equation\n",
    "\n",
    "\\begin{align*}\n",
    "\\frac{\\partial u}{\\partial t} &= \\alpha\\left(\\frac{\\partial^2u}{\\partial x^2} + \\frac{\\partial^2u}{\\partial y^2} \\right),\\quad\\quad & x \\in (0,L_x),\\quad\\quad y \\in (0, L_y) \\quad\\quad t \\in (0, T] \\\\\n",
    "u(x, y, 0)&=I_0(x, y),\\quad\\quad & x \\in [0, L_x],\\quad\\quad y \\in [0, L_y] \\\\\n",
    "\\end{align*}"
   ]
  },
  {
   "cell_type": "markdown",
   "metadata": {},
   "source": [
    "## Discretization of the 2D Heat equation\n",
    "\n",
    "\\begin{align*}\n",
    "\\text{space discretization}\\quad x:&\\quad\\quad\\quad\\quad\\quad x_i =i \\Delta x, \\quad i=0,\\ldots,Nx\\\\\n",
    "\\text{space discretization}\\quad y:&\\quad\\quad\\quad\\quad\\quad y_j =j \\Delta y, \\quad j=0,\\ldots,Ny\\\\\n",
    "\\text{time discretization:} &\\quad\\quad\\quad\\quad\\quad t_n = n\\Delta t, \\quad n = 0,\\ldots, N_t \\\\\n",
    "u_{i,j}^{n+1} &= u_{i,j}^n + \\alpha \\Delta t  \\left(\\frac{u_{i-1,j}^n-2u_{i,j}^n+u_{i+1,j}^n}{\\Delta x^2}\\right) + \\alpha \\Delta t \\left(\\frac{u_{i,j-1}^n-2u_{i,j}^n+u_{i,j+1}^n}{\\Delta y^2} \\right) \\\\\n",
    "u_{i,j}^{n+1} &= u_{i,j}^n +F_x  \\left(u_{i-1,j}^n-2u_{i,j}^n+u_{i+1,j}^n\\right) + F_y \\left(u_{i,j-1}^n-2u_{i,j}^n+u_{i,j+1}^n\\right) \\\\\n",
    "\\text{where}&,\\quad\\quad F_x=\\frac{\\alpha \\Delta t}{\\Delta x^2},\\quad\\quad F_y=\\frac{\\alpha \\Delta t}{\\Delta y^2}\n",
    "\\end{align*}"
   ]
  },
  {
   "cell_type": "markdown",
   "metadata": {},
   "source": [
    "## Rectangular Grid\n",
    "![Heat2D](img/Heat2D.jpg)"
   ]
  },
  {
   "cell_type": "markdown",
   "metadata": {},
   "source": [
    "## 5-Point Stencil\n",
    "![Five Point Stencil](img/Stencil2D.jpg)"
   ]
  },
  {
   "cell_type": "code",
   "execution_count": null,
   "metadata": {},
   "outputs": [],
   "source": [
    "nx = 400\n",
    "ny = 400\n",
    "nt = 10000\n",
    "T = 100.0\n",
    "Lx = 10.0\n",
    "Ly = 10.0\n",
    "dx = L / nx\n",
    "dy = L / ny\n",
    "dt = T / nt\n",
    "alpha = 1.0\n",
    "Fx = alpha * dt / dx ** 2 \n",
    "Fy = alpha * dt / dy ** 2 \n",
    "#print(Fx, Fy)\n",
    "X, Y = np.meshgrid(np.linspace(0, Lx, nx + 1), np.linspace(0, Ly, ny + 1), indexing='ij')\n",
    "temp = np.zeros((ny + 1, nx + 1))\n",
    "temp = 1.0 * np.exp(-(X - Lx / 2.0) **2 / 2  - (Y - Ly / 2.0) ** 2 / 2) # Initial conditions\n",
    "temp[(X == 0.0) | (Y == 0.0) | (X == L) | (Y == Ly)] = 0.0 # Boundary conditions"
   ]
  },
  {
   "cell_type": "code",
   "execution_count": null,
   "metadata": {},
   "outputs": [],
   "source": [
    "@numba.stencil\n",
    "def central_diff_stencil2D(x, Fx, Fy):\n",
    "    return (x[0, 0]  + Fx * (x[-1, 0] - 2.0 * x[0, 0] + x[1, 0]) + \n",
    "            + Fy * (x[0, -1] - 2.0 * x[0, 0] + x[0, 1]))"
   ]
  },
  {
   "cell_type": "code",
   "execution_count": null,
   "metadata": {},
   "outputs": [],
   "source": [
    "@numba.njit\n",
    "def simulation2D(x, Fx, Fy, nt):\n",
    "    for i in range(nt):\n",
    "        x = central_diff_stencil2D(x, Fx, Fy)\n",
    "    \n",
    "    return x"
   ]
  },
  {
   "cell_type": "code",
   "execution_count": null,
   "metadata": {},
   "outputs": [],
   "source": [
    "%time temp_final = simulation2D(temp, Fx, Fy, nt)\n",
    "fig = plt.figure(figsize=(20,20))\n",
    "ax1 = fig.add_subplot(211)\n",
    "im1 = ax1.contourf(X, Y, temp, 20, cmap='inferno')\n",
    "ax1.set_aspect('equal')\n",
    "plt.colorbar(im1)\n",
    "ax2 = fig.add_subplot(212)\n",
    "im2 = ax2.contourf(X, Y, temp_final, 20, cmap='inferno')\n",
    "ax2.set_aspect('equal')\n",
    "plt.colorbar(im2);"
   ]
  }
 ],
 "metadata": {
  "kernelspec": {
   "display_name": "Python 3",
   "language": "python",
   "name": "python3"
  },
  "language_info": {
   "codemirror_mode": {
    "name": "ipython",
    "version": 3
   },
   "file_extension": ".py",
   "mimetype": "text/x-python",
   "name": "python",
   "nbconvert_exporter": "python",
   "pygments_lexer": "ipython3",
   "version": "3.6.5"
  }
 },
 "nbformat": 4,
 "nbformat_minor": 2
}
